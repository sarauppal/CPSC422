{
 "cells": [
  {
   "cell_type": "code",
   "execution_count": 130,
   "metadata": {},
   "outputs": [],
   "source": [
    "import numpy as np\n",
    "import random\n",
    "import pandas as pd\n",
    "\n",
    "def normalize (arr):\n",
    "    return arr/np.sum(arr)"
   ]
  },
  {
   "cell_type": "code",
   "execution_count": 113,
   "metadata": {},
   "outputs": [
    {
     "data": {
      "text/plain": [
       "array([9.9990001e-05, 9.9990001e-01])"
      ]
     },
     "execution_count": 113,
     "metadata": {},
     "output_type": "execute_result"
    }
   ],
   "source": [
    "normalize([1, 10000])"
   ]
  },
  {
   "cell_type": "code",
   "execution_count": 84,
   "metadata": {},
   "outputs": [],
   "source": [
    "ne_variables = ['A','C','D']\n",
    "obs = {'B' : 1}\n",
    "\n",
    "#  Random initialization\n",
    "random.seed(88)\n",
    "bool(random.getrandbits(1))\n",
    "assignment = {}\n",
    "\n",
    "assignment = {v:random.getrandbits(1) for v in ne_variables}\n",
    "#add obeservation \n",
    "assignment.update(obs)\n",
    "\n"
   ]
  },
  {
   "cell_type": "code",
   "execution_count": 85,
   "metadata": {},
   "outputs": [
    {
     "data": {
      "text/plain": [
       "{'A': 1, 'C': 0, 'D': 0, 'B': 1}"
      ]
     },
     "execution_count": 85,
     "metadata": {},
     "output_type": "execute_result"
    }
   ],
   "source": [
    "assignment"
   ]
  },
  {
   "cell_type": "code",
   "execution_count": 72,
   "metadata": {},
   "outputs": [],
   "source": [
    "# factors\n",
    "# f_a_b = [[30, 5],[1,10]]\n",
    "# f_b_c = [[100,1],[1,100]]\n",
    "# f_c_d = [[1,100],[100,1]]\n",
    "# f_a_d = [[100,1],[1,100]]\n",
    "\n",
    "f_a_b = {'A' : {0 : [30, 5] , 1 : [1, 10]} , 'B' : {0 : [30, 1], 1 : [5,10]}}\n",
    "f_b_c = {'B' : {0 : [100, 1] , 1 : [1, 100]} , 'C' : {0 : [100, 1], 1 : [1,100]}}\n",
    "f_c_d = {'C' : {0 : [1, 100] , 1 : [100, 1]} , 'D' : {0 : [1, 100], 1 : [100,1]}}\n",
    "f_a_d = {'A' : {0 : [100, 1] , 1 : [1, 100]} , 'D' : {0 : [100, 1], 1 : [1,100]}}\n",
    "\n",
    "factors_invloving = {'A' : [f_a_b, f_a_d] , 'B' : [f_a_b, f_b_c] , 'C' : [f_b_c,f_c_d] , 'D' : [f_c_d, f_a_d]}"
   ]
  },
  {
   "cell_type": "code",
   "execution_count": 74,
   "metadata": {},
   "outputs": [
    {
     "data": {
      "text/plain": [
       "'D'"
      ]
     },
     "execution_count": 74,
     "metadata": {},
     "output_type": "execute_result"
    }
   ],
   "source": [
    "to_sample"
   ]
  },
  {
   "cell_type": "code",
   "execution_count": 75,
   "metadata": {},
   "outputs": [
    {
     "data": {
      "text/plain": [
       "['A', 'C']"
      ]
     },
     "execution_count": 75,
     "metadata": {},
     "output_type": "execute_result"
    }
   ],
   "source": [
    "remaining_var"
   ]
  },
  {
   "cell_type": "code",
   "execution_count": 73,
   "metadata": {},
   "outputs": [
    {
     "data": {
      "text/plain": [
       "[{'C': {0: [1, 100], 1: [100, 1]}, 'D': {0: [1, 100], 1: [100, 1]}},\n",
       " {'A': {0: [100, 1], 1: [1, 100]}, 'D': {0: [100, 1], 1: [1, 100]}}]"
      ]
     },
     "execution_count": 73,
     "metadata": {},
     "output_type": "execute_result"
    }
   ],
   "source": [
    "# choose a non evidence variable randomly to sample next\n",
    "\n",
    "to_sample = random.choice(ne_variables) \n",
    "remaining_var = [val for val in ne_variables if val != to_sample]\n",
    "factors_invloving[to_sample]"
   ]
  },
  {
   "cell_type": "code",
   "execution_count": 87,
   "metadata": {},
   "outputs": [],
   "source": [
    "v = 'A'\n",
    "f = factors_invloving[to_sample][1][v][assignment[v]]"
   ]
  },
  {
   "cell_type": "code",
   "execution_count": 112,
   "metadata": {},
   "outputs": [
    {
     "name": "stdout",
     "output_type": "stream",
     "text": [
      "A\n",
      "[1, 100]\n",
      "C\n",
      "[1, 100]\n"
     ]
    },
    {
     "data": {
      "text/plain": [
       "array([9.9990001e-05, 9.9990001e-01])"
      ]
     },
     "execution_count": 112,
     "metadata": {},
     "output_type": "execute_result"
    }
   ],
   "source": [
    "probabilities = np.array([1,1])\n",
    "for v in remaining_var:\n",
    "    print(v)\n",
    "    for f in factors_invloving[to_sample]:\n",
    "        if v not in f.keys():\n",
    "            continue\n",
    "        probabilities *= f[v][assignment[v]]\n",
    "        probabilities = normalize(probabilities)\n",
    "        print(f[v][assignment[v]])\n",
    "\n",
    "probabilities        "
   ]
  },
  {
   "cell_type": "code",
   "execution_count": 114,
   "metadata": {},
   "outputs": [
    {
     "data": {
      "text/plain": [
       "0"
      ]
     },
     "execution_count": 114,
     "metadata": {},
     "output_type": "execute_result"
    }
   ],
   "source": [
    "assignment[to_sample]"
   ]
  },
  {
   "cell_type": "code",
   "execution_count": 116,
   "metadata": {},
   "outputs": [],
   "source": [
    "# replace the samepled value in assignment\n",
    "if random.uniform(0, 1) > probabilities[0]:\n",
    "    assignment[to_sample] = 1\n",
    "else: \n",
    "    assignment[to_sample] = 0"
   ]
  },
  {
   "cell_type": "code",
   "execution_count": 128,
   "metadata": {},
   "outputs": [],
   "source": [
    "assignment1 = {'A': 0, 'C': 1, 'D': 1, 'B': 1}"
   ]
  },
  {
   "cell_type": "code",
   "execution_count": 132,
   "metadata": {},
   "outputs": [
    {
     "name": "stdout",
     "output_type": "stream",
     "text": [
      "     A    B    C    D\n",
      "0  1.0  1.0  0.0  1.0\n",
      "1  0.0  1.0  1.0  1.0\n"
     ]
    }
   ],
   "source": [
    "output = pd.DataFrame()\n",
    "output = output.append(assignment, ignore_index=True)\n",
    "output = output.append(assignment1, ignore_index=True)\n",
    "print(output.head())"
   ]
  }
 ],
 "metadata": {
  "kernelspec": {
   "display_name": "Python 3",
   "language": "python",
   "name": "python3"
  },
  "language_info": {
   "codemirror_mode": {
    "name": "ipython",
    "version": 3
   },
   "file_extension": ".py",
   "mimetype": "text/x-python",
   "name": "python",
   "nbconvert_exporter": "python",
   "pygments_lexer": "ipython3",
   "version": "3.7.4"
  }
 },
 "nbformat": 4,
 "nbformat_minor": 2
}
