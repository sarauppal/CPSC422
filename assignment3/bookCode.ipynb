{
 "cells": [
  {
   "cell_type": "code",
   "execution_count": 10,
   "metadata": {},
   "outputs": [],
   "source": [
    "class Displayable(object):\n",
    "\n",
    "    max_display_level = 1 # can be overridden in subclasses\n",
    "    def display(self,level,*args,**nargs):\n",
    "        \"\"\"print the arguments if level is less than or equal to the\n",
    "        current max_display_level.\n",
    "        level is an integer.\n",
    "        the other arguments are whatever arguments print can take.\n",
    "        \"\"\"\n",
    "        if level <= self.max_display_level:\n",
    "            print(*args, **nargs) ##if error you are using Python2 not Python3"
   ]
  },
  {
   "cell_type": "code",
   "execution_count": 12,
   "metadata": {},
   "outputs": [],
   "source": [
    "class Inference_method(Displayable):\n",
    "    \"\"\"The abstract class of graphical model inference methods\"\"\"\n",
    "    def query(self,qvar,obs={}):\n",
    "        raise NotImplementedError(\"Inference_method query\") # abstract method"
   ]
  },
  {
   "cell_type": "code",
   "execution_count": 13,
   "metadata": {},
   "outputs": [],
   "source": [
    "class Sampling_inference_method(Inference_method):\n",
    "    \n",
    "    def query(self,qvar,obs={},number_samples=1000,sample_order=None):\n",
    "        raise NotImplementedError(\"Sampling_inference_method query\") # abstract\n"
   ]
  },
  {
   "cell_type": "code",
   "execution_count": 14,
   "metadata": {},
   "outputs": [],
   "source": [
    "class Graphical_model(object):\n",
    "    \"\"\"The class of graphical models.\n",
    "    A graphical model consists of a set of variables and a set of factors.\n",
    "\n",
    "    List vars is a list of variables\n",
    "    List factors is a list of factors\n",
    "    \"\"\"\n",
    "    def __init__(self,vars=None,factors=None):\n",
    "        self.variables = vars\n",
    "        self.factors = factors"
   ]
  },
  {
   "cell_type": "code",
   "execution_count": 19,
   "metadata": {},
   "outputs": [],
   "source": [
    "class Variable(object):\n",
    "\n",
    "    def __init__(self,name,domain):\n",
    "        self.name = name\n",
    "        self.size = len(domain)\n",
    "        self.domain = domain\n",
    "        self.val_to_index = {} # map from domain to index\n",
    "        for i,val in enumerate(domain):\n",
    "            self.val_to_index[val]=i\n",
    "    def __str__(self):\n",
    "        return self.name\n",
    "    \n",
    "    def __repr__(self):\n",
    "        return \"Variable('\"+self.name+\"')\"\n",
    "\n"
   ]
  },
  {
   "cell_type": "code",
   "execution_count": null,
   "metadata": {},
   "outputs": [],
   "source": [
    "16 class Gibbs_sampling(Sampling_inference_method):\n",
    "17 \"\"\"The class that queries Graphical Models using Gibbs Sampling.\n",
    "18\n",
    "19 bn is a graphical model (e.g., a belief network) to query"
   ]
  }
 ],
 "metadata": {
  "kernelspec": {
   "display_name": "Python 3",
   "language": "python",
   "name": "python3"
  },
  "language_info": {
   "codemirror_mode": {
    "name": "ipython",
    "version": 3
   },
   "file_extension": ".py",
   "mimetype": "text/x-python",
   "name": "python",
   "nbconvert_exporter": "python",
   "pygments_lexer": "ipython3",
   "version": "3.7.4"
  }
 },
 "nbformat": 4,
 "nbformat_minor": 2
}
